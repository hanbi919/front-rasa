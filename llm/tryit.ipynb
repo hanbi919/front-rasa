{
 "cells": [
  {
   "cell_type": "code",
   "execution_count": 3,
   "id": "dcbee36b",
   "metadata": {},
   "outputs": [],
   "source": [
    "import pandas as pd# 1. 读取Excel文件\n",
    "def read_excel_data(file_path):\n",
    "    df = pd.read_excel(file_path)\n",
    "    data = []\n",
    "\n",
    "    for _, row in df.iterrows():\n",
    "        main_item = row['主项名称']\n",
    "        generalizations = row['泛化'].split(\n",
    "            '\\n') if pd.notna(row['泛化']) else []\n",
    "\n",
    "        # 为每个泛化项创建一条记录\n",
    "        for gen in generalizations:\n",
    "            if gen.strip():  # 跳过空字符串\n",
    "                data.append({\n",
    "                    'main_item': main_item,\n",
    "                    'generalization': gen.strip(),\n",
    "                    'combined_text': f\"{main_item} {gen.strip()}\"  # 合并文本用于向量化\n",
    "                })\n",
    "\n",
    "    return pd.DataFrame(data)"
   ]
  },
  {
   "cell_type": "code",
   "execution_count": 4,
   "id": "a7aeb043",
   "metadata": {},
   "outputs": [
    {
     "data": {
      "text/html": [
       "<div>\n",
       "<style scoped>\n",
       "    .dataframe tbody tr th:only-of-type {\n",
       "        vertical-align: middle;\n",
       "    }\n",
       "\n",
       "    .dataframe tbody tr th {\n",
       "        vertical-align: top;\n",
       "    }\n",
       "\n",
       "    .dataframe thead th {\n",
       "        text-align: right;\n",
       "    }\n",
       "</style>\n",
       "<table border=\"1\" class=\"dataframe\">\n",
       "  <thead>\n",
       "    <tr style=\"text-align: right;\">\n",
       "      <th></th>\n",
       "      <th>main_item</th>\n",
       "      <th>generalization</th>\n",
       "      <th>combined_text</th>\n",
       "    </tr>\n",
       "  </thead>\n",
       "  <tbody>\n",
       "    <tr>\n",
       "      <th>0</th>\n",
       "      <td>住房公积金贷款二手房贷款</td>\n",
       "      <td>公积金二手房贷款</td>\n",
       "      <td>住房公积金贷款二手房贷款 公积金二手房贷款</td>\n",
       "    </tr>\n",
       "    <tr>\n",
       "      <th>1</th>\n",
       "      <td>住房公积金贷款二手房贷款</td>\n",
       "      <td>二手房公积金借款</td>\n",
       "      <td>住房公积金贷款二手房贷款 二手房公积金借款</td>\n",
       "    </tr>\n",
       "    <tr>\n",
       "      <th>2</th>\n",
       "      <td>住房公积金贷款二手房贷款</td>\n",
       "      <td>公积金买二手房贷款</td>\n",
       "      <td>住房公积金贷款二手房贷款 公积金买二手房贷款</td>\n",
       "    </tr>\n",
       "    <tr>\n",
       "      <th>3</th>\n",
       "      <td>住房公积金贷款二手房贷款</td>\n",
       "      <td>二手房用公积金贷款</td>\n",
       "      <td>住房公积金贷款二手房贷款 二手房用公积金贷款</td>\n",
       "    </tr>\n",
       "    <tr>\n",
       "      <th>4</th>\n",
       "      <td>住房公积金贷款二手房贷款</td>\n",
       "      <td>住房金二手房贷款</td>\n",
       "      <td>住房公积金贷款二手房贷款 住房金二手房贷款</td>\n",
       "    </tr>\n",
       "  </tbody>\n",
       "</table>\n",
       "</div>"
      ],
      "text/plain": [
       "      main_item generalization           combined_text\n",
       "0  住房公积金贷款二手房贷款       公积金二手房贷款   住房公积金贷款二手房贷款 公积金二手房贷款\n",
       "1  住房公积金贷款二手房贷款       二手房公积金借款   住房公积金贷款二手房贷款 二手房公积金借款\n",
       "2  住房公积金贷款二手房贷款      公积金买二手房贷款  住房公积金贷款二手房贷款 公积金买二手房贷款\n",
       "3  住房公积金贷款二手房贷款      二手房用公积金贷款  住房公积金贷款二手房贷款 二手房用公积金贷款\n",
       "4  住房公积金贷款二手房贷款       住房金二手房贷款   住房公积金贷款二手房贷款 住房金二手房贷款"
      ]
     },
     "execution_count": 4,
     "metadata": {},
     "output_type": "execute_result"
    }
   ],
   "source": [
    "df = read_excel_data(\"test.xlsx\")\n",
    "df.head()"
   ]
  },
  {
   "cell_type": "code",
   "execution_count": 5,
   "id": "18530753",
   "metadata": {},
   "outputs": [
    {
     "name": "stdout",
     "output_type": "stream",
     "text": [
      "<class 'pandas.core.frame.DataFrame'>\n",
      "RangeIndex: 66 entries, 0 to 65\n",
      "Data columns (total 3 columns):\n",
      " #   Column          Non-Null Count  Dtype \n",
      "---  ------          --------------  ----- \n",
      " 0   main_item       66 non-null     object\n",
      " 1   generalization  66 non-null     object\n",
      " 2   combined_text   66 non-null     object\n",
      "dtypes: object(3)\n",
      "memory usage: 1.7+ KB\n"
     ]
    }
   ],
   "source": [
    "df.info()"
   ]
  },
  {
   "cell_type": "code",
   "execution_count": null,
   "id": "c46ce71e",
   "metadata": {},
   "outputs": [],
   "source": []
  }
 ],
 "metadata": {
  "kernelspec": {
   "display_name": "pandas",
   "language": "python",
   "name": "python3"
  },
  "language_info": {
   "codemirror_mode": {
    "name": "ipython",
    "version": 3
   },
   "file_extension": ".py",
   "mimetype": "text/x-python",
   "name": "python",
   "nbconvert_exporter": "python",
   "pygments_lexer": "ipython3",
   "version": "3.10.17"
  }
 },
 "nbformat": 4,
 "nbformat_minor": 5
}
