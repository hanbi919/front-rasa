{
 "cells": [
  {
   "cell_type": "code",
   "execution_count": 1,
   "id": "d933ef9c",
   "metadata": {},
   "outputs": [
    {
     "name": "stdout",
     "output_type": "stream",
     "text": [
      "<class 'pandas.core.frame.DataFrame'>\n",
      "RangeIndex: 897 entries, 0 to 896\n",
      "Data columns (total 2 columns):\n",
      " #   Column  Non-Null Count  Dtype \n",
      "---  ------  --------------  ----- \n",
      " 0   一级事项名称  897 non-null    object\n",
      " 1   泛化      897 non-null    object\n",
      "dtypes: object(2)\n",
      "memory usage: 14.1+ KB\n"
     ]
    }
   ],
   "source": [
    "import pandas as pd\n",
    "# 读取 Excel 文件（支持 .xlsx 和 .xls）\n",
    "df = pd.read_excel(\"./泛化.xlsx\", sheet_name=\"Sheet1\")  # 可指定工作表\n",
    "df.info()"
   ]
  },
  {
   "cell_type": "code",
   "execution_count": 2,
   "id": "2ce2d755",
   "metadata": {},
   "outputs": [
    {
     "name": "stdout",
     "output_type": "stream",
     "text": [
      "重复的名字及出现次数:\n",
      "一级事项名称\n",
      "赴台探亲签注签发                           2\n",
      "辅助器具异地配置申请                         2\n",
      "一次性工亡补助金（含生活困难，预支50%确认）、丧葬补助金申领    2\n",
      "住院伙食补助费申领                          2\n",
      "伤残待遇申领（一次性伤残补助金、伤残津贴和生活护理费）        2\n",
      "供养亲属抚恤金申领                          2\n",
      "统筹地区以外交通、食宿费申领                     2\n",
      "工伤医疗（康复）费用申报                       2\n",
      "异地居住就医申请确认                         2\n",
      "工伤保险待遇变更                           2\n",
      "工伤康复申请确认                           2\n",
      "变更工伤登记                             2\n",
      "一次性工伤医疗补助金申请                       2\n",
      "辅助器具配置（更换）费用申报                     2\n",
      "工伤康复治疗期延长申请                        2\n",
      "工伤保险转诊转院申请确认                       2\n",
      "Name: count, dtype: int64\n"
     ]
    }
   ],
   "source": [
    "# 查找Name列的重复值\n",
    "name_counts = df['一级事项名称'].value_counts()\n",
    "duplicate_names = name_counts[name_counts > 1]\n",
    "\n",
    "print(\"重复的名字及出现次数:\")\n",
    "print(duplicate_names)"
   ]
  }
 ],
 "metadata": {
  "kernelspec": {
   "display_name": "pandas",
   "language": "python",
   "name": "python3"
  },
  "language_info": {
   "codemirror_mode": {
    "name": "ipython",
    "version": 3
   },
   "file_extension": ".py",
   "mimetype": "text/x-python",
   "name": "python",
   "nbconvert_exporter": "python",
   "pygments_lexer": "ipython3",
   "version": "3.10.17"
  }
 },
 "nbformat": 4,
 "nbformat_minor": 5
}
