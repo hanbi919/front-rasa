{
 "cells": [
  {
   "cell_type": "code",
   "execution_count": 1,
   "id": "d933ef9c",
   "metadata": {},
   "outputs": [
    {
     "name": "stdout",
     "output_type": "stream",
     "text": [
      "<class 'pandas.core.frame.DataFrame'>\n",
      "RangeIndex: 1019 entries, 0 to 1018\n",
      "Data columns (total 2 columns):\n",
      " #   Column  Non-Null Count  Dtype \n",
      "---  ------  --------------  ----- \n",
      " 0   一级事项名称  1019 non-null   object\n",
      " 1   泛化      1019 non-null   object\n",
      "dtypes: object(2)\n",
      "memory usage: 16.0+ KB\n"
     ]
    }
   ],
   "source": [
    "import pandas as pd\n",
    "# 读取 Excel 文件（支持 .xlsx 和 .xls）\n",
    "df = pd.read_excel(\"./泛化.xlsx\", sheet_name=\"Sheet1\")  # 可指定工作表\n",
    "df.info()"
   ]
  },
  {
   "cell_type": "code",
   "execution_count": 2,
   "id": "2ce2d755",
   "metadata": {},
   "outputs": [
    {
     "name": "stdout",
     "output_type": "stream",
     "text": [
      "重复的名字及出现次数:\n",
      "一级事项名称\n",
      "境外注册中资控股企业居民身份认定申请            2\n",
      "发票真伪鉴定                        2\n",
      "中国税收居民身份证明的出具                 2\n",
      "代开发票作废                        2\n",
      "中国居民（国民）申请启动税务相互协商程序          2\n",
      "临时开票权限办理                      2\n",
      "合伙制创业投资企业单一投资基金核算方式报告         2\n",
      "纳税人合并分立情况报告                   2\n",
      "软件和集成电路产业企业所得税优惠事项资料报告        2\n",
      "非居民企业间接转让财产事项报告               2\n",
      "服务贸易等项目对外支付税务备案               2\n",
      "科技成果转化暂不征收个人所得税备案             2\n",
      "第三方涉税保密信息查询                   2\n",
      "税务证件增补发                       2\n",
      "发票缴销                          2\n",
      "税收统计调查数据采集                    2\n",
      "欠税人处置不动产或大额资产报告               2\n",
      "软件产品增值税即征即退进项分摊方式资料报送与信息报告    2\n",
      "个人所得税分期缴纳报告                   2\n",
      "发票领用                          2\n",
      "非居民企业股权转让适用特殊性税务处理的备案         2\n",
      "增值税税控系统专用设备注销发行               2\n",
      "增值税税控系统专用设备初始发行               2\n",
      "个人所得税递延纳税报告                   2\n",
      "增值税税控系统专用设备变更发行               2\n",
      "境内机构和个人发包工程作业或劳务项目备案          2\n",
      "发票验（交）旧                       2\n",
      "个人所得税抵扣情况报告                   2\n",
      "扣缴义务人报告自然人身份信息                2\n",
      "纳税服务投诉处理                      2\n",
      "存根联数据采集                       2\n",
      "纳税人涉税信息查询                     2\n",
      "社会公众涉税公开信息查询                  2\n",
      "其他出口退（免）税备案                   2\n",
      "出口退（免）税企业备案信息报告               2\n",
      "退税商店资格信息报告                    2\n",
      "货物运输业小规模纳税人异地代开增值税专用发票备案      2\n",
      "税务注销                          2\n",
      "税务登记                          2\n",
      "第二类医疗器械经营备案核准新办               2\n",
      "赴台探亲签注签发                      2\n",
      "Name: count, dtype: int64\n"
     ]
    }
   ],
   "source": [
    "# 查找Name列的重复值\n",
    "name_counts = df['一级事项名称'].value_counts()\n",
    "duplicate_names = name_counts[name_counts > 1]\n",
    "\n",
    "print(\"重复的名字及出现次数:\")\n",
    "print(duplicate_names)"
   ]
  }
 ],
 "metadata": {
  "kernelspec": {
   "display_name": "pandas",
   "language": "python",
   "name": "python3"
  },
  "language_info": {
   "codemirror_mode": {
    "name": "ipython",
    "version": 3
   },
   "file_extension": ".py",
   "mimetype": "text/x-python",
   "name": "python",
   "nbconvert_exporter": "python",
   "pygments_lexer": "ipython3",
   "version": "3.10.17"
  }
 },
 "nbformat": 4,
 "nbformat_minor": 5
}
